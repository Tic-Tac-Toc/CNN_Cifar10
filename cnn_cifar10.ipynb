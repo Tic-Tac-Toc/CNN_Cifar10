{
  "nbformat": 4,
  "nbformat_minor": 0,
  "metadata": {
    "accelerator": "GPU",
    "colab": {
      "name": "Copie de PyTorch_cifar10_tutorial_ROB313_2020.ipynb",
      "provenance": [],
      "collapsed_sections": [
        "0JcmlEe8t2Fe",
        "AZKLymOacazg",
        "7xzIkZqit2IA",
        "XEFW6M6jZtWk"
      ]
    },
    "kernelspec": {
      "display_name": "Python 3",
      "name": "python3"
    },
    "widgets": {
      "application/vnd.jupyter.widget-state+json": {
        "c2fdfa0a64ae454cb52a33ffb412774e": {
          "model_module": "@jupyter-widgets/controls",
          "model_name": "HBoxModel",
          "state": {
            "_view_name": "HBoxView",
            "_dom_classes": [],
            "_model_name": "HBoxModel",
            "_view_module": "@jupyter-widgets/controls",
            "_model_module_version": "1.5.0",
            "_view_count": null,
            "_view_module_version": "1.5.0",
            "box_style": "",
            "layout": "IPY_MODEL_d5ae2e407975441ea4355c5a4f6faee4",
            "_model_module": "@jupyter-widgets/controls",
            "children": [
              "IPY_MODEL_7c58ff7b1cad462badd2939f85b7e158",
              "IPY_MODEL_76fdcd4817f543e79d0c1d240bfe54c8"
            ]
          }
        },
        "d5ae2e407975441ea4355c5a4f6faee4": {
          "model_module": "@jupyter-widgets/base",
          "model_name": "LayoutModel",
          "state": {
            "_view_name": "LayoutView",
            "grid_template_rows": null,
            "right": null,
            "justify_content": null,
            "_view_module": "@jupyter-widgets/base",
            "overflow": null,
            "_model_module_version": "1.2.0",
            "_view_count": null,
            "flex_flow": null,
            "width": null,
            "min_width": null,
            "border": null,
            "align_items": null,
            "bottom": null,
            "_model_module": "@jupyter-widgets/base",
            "top": null,
            "grid_column": null,
            "overflow_y": null,
            "overflow_x": null,
            "grid_auto_flow": null,
            "grid_area": null,
            "grid_template_columns": null,
            "flex": null,
            "_model_name": "LayoutModel",
            "justify_items": null,
            "grid_row": null,
            "max_height": null,
            "align_content": null,
            "visibility": null,
            "align_self": null,
            "height": null,
            "min_height": null,
            "padding": null,
            "grid_auto_rows": null,
            "grid_gap": null,
            "max_width": null,
            "order": null,
            "_view_module_version": "1.2.0",
            "grid_template_areas": null,
            "object_position": null,
            "object_fit": null,
            "grid_auto_columns": null,
            "margin": null,
            "display": null,
            "left": null
          }
        },
        "7c58ff7b1cad462badd2939f85b7e158": {
          "model_module": "@jupyter-widgets/controls",
          "model_name": "FloatProgressModel",
          "state": {
            "_view_name": "ProgressView",
            "style": "IPY_MODEL_849af76d92fa4cfca2f3f060875a8612",
            "_dom_classes": [],
            "description": "",
            "_model_name": "FloatProgressModel",
            "bar_style": "success",
            "max": 1,
            "_view_module": "@jupyter-widgets/controls",
            "_model_module_version": "1.5.0",
            "value": 1,
            "_view_count": null,
            "_view_module_version": "1.5.0",
            "orientation": "horizontal",
            "min": 0,
            "description_tooltip": null,
            "_model_module": "@jupyter-widgets/controls",
            "layout": "IPY_MODEL_44e77c51a76149328dccd8fd8264ee1c"
          }
        },
        "76fdcd4817f543e79d0c1d240bfe54c8": {
          "model_module": "@jupyter-widgets/controls",
          "model_name": "HTMLModel",
          "state": {
            "_view_name": "HTMLView",
            "style": "IPY_MODEL_bff1ef0a7af14d7fa54d4530cdf509c8",
            "_dom_classes": [],
            "description": "",
            "_model_name": "HTMLModel",
            "placeholder": "​",
            "_view_module": "@jupyter-widgets/controls",
            "_model_module_version": "1.5.0",
            "value": " 170500096/? [00:06&lt;00:00, 28124761.34it/s]",
            "_view_count": null,
            "_view_module_version": "1.5.0",
            "description_tooltip": null,
            "_model_module": "@jupyter-widgets/controls",
            "layout": "IPY_MODEL_d8e76f5effdc48a3bfd65dee2a914858"
          }
        },
        "849af76d92fa4cfca2f3f060875a8612": {
          "model_module": "@jupyter-widgets/controls",
          "model_name": "ProgressStyleModel",
          "state": {
            "_view_name": "StyleView",
            "_model_name": "ProgressStyleModel",
            "description_width": "initial",
            "_view_module": "@jupyter-widgets/base",
            "_model_module_version": "1.5.0",
            "_view_count": null,
            "_view_module_version": "1.2.0",
            "bar_color": null,
            "_model_module": "@jupyter-widgets/controls"
          }
        },
        "44e77c51a76149328dccd8fd8264ee1c": {
          "model_module": "@jupyter-widgets/base",
          "model_name": "LayoutModel",
          "state": {
            "_view_name": "LayoutView",
            "grid_template_rows": null,
            "right": null,
            "justify_content": null,
            "_view_module": "@jupyter-widgets/base",
            "overflow": null,
            "_model_module_version": "1.2.0",
            "_view_count": null,
            "flex_flow": null,
            "width": null,
            "min_width": null,
            "border": null,
            "align_items": null,
            "bottom": null,
            "_model_module": "@jupyter-widgets/base",
            "top": null,
            "grid_column": null,
            "overflow_y": null,
            "overflow_x": null,
            "grid_auto_flow": null,
            "grid_area": null,
            "grid_template_columns": null,
            "flex": null,
            "_model_name": "LayoutModel",
            "justify_items": null,
            "grid_row": null,
            "max_height": null,
            "align_content": null,
            "visibility": null,
            "align_self": null,
            "height": null,
            "min_height": null,
            "padding": null,
            "grid_auto_rows": null,
            "grid_gap": null,
            "max_width": null,
            "order": null,
            "_view_module_version": "1.2.0",
            "grid_template_areas": null,
            "object_position": null,
            "object_fit": null,
            "grid_auto_columns": null,
            "margin": null,
            "display": null,
            "left": null
          }
        },
        "bff1ef0a7af14d7fa54d4530cdf509c8": {
          "model_module": "@jupyter-widgets/controls",
          "model_name": "DescriptionStyleModel",
          "state": {
            "_view_name": "StyleView",
            "_model_name": "DescriptionStyleModel",
            "description_width": "",
            "_view_module": "@jupyter-widgets/base",
            "_model_module_version": "1.5.0",
            "_view_count": null,
            "_view_module_version": "1.2.0",
            "_model_module": "@jupyter-widgets/controls"
          }
        },
        "d8e76f5effdc48a3bfd65dee2a914858": {
          "model_module": "@jupyter-widgets/base",
          "model_name": "LayoutModel",
          "state": {
            "_view_name": "LayoutView",
            "grid_template_rows": null,
            "right": null,
            "justify_content": null,
            "_view_module": "@jupyter-widgets/base",
            "overflow": null,
            "_model_module_version": "1.2.0",
            "_view_count": null,
            "flex_flow": null,
            "width": null,
            "min_width": null,
            "border": null,
            "align_items": null,
            "bottom": null,
            "_model_module": "@jupyter-widgets/base",
            "top": null,
            "grid_column": null,
            "overflow_y": null,
            "overflow_x": null,
            "grid_auto_flow": null,
            "grid_area": null,
            "grid_template_columns": null,
            "flex": null,
            "_model_name": "LayoutModel",
            "justify_items": null,
            "grid_row": null,
            "max_height": null,
            "align_content": null,
            "visibility": null,
            "align_self": null,
            "height": null,
            "min_height": null,
            "padding": null,
            "grid_auto_rows": null,
            "grid_gap": null,
            "max_width": null,
            "order": null,
            "_view_module_version": "1.2.0",
            "grid_template_areas": null,
            "object_position": null,
            "object_fit": null,
            "grid_auto_columns": null,
            "margin": null,
            "display": null,
            "left": null
          }
        }
      }
    }
  },
  "cells": [
    {
      "cell_type": "code",
      "metadata": {
        "id": "GkjN23FKt2D-"
      },
      "source": [
        "%matplotlib inline"
      ],
      "execution_count": null,
      "outputs": []
    },
    {
      "cell_type": "markdown",
      "metadata": {
        "id": "YAz-fhRRdFaR"
      },
      "source": [
        "### Plotting functions and useful imports"
      ]
    },
    {
      "cell_type": "code",
      "metadata": {
        "id": "nnee2WPudA9K"
      },
      "source": [
        "# Python 2/3 compatibility\n",
        "from __future__ import print_function, division\n",
        "\n",
        "import itertools\n",
        "import time\n",
        "\n",
        "\n",
        "import numpy as np\n",
        "import matplotlib.pyplot as plt\n",
        "\n",
        "# Colors from Colorbrewer Paired_12\n",
        "colors = [[31, 120, 180], [51, 160, 44], [255, 0, 0]]\n",
        "colors = [(r / 255, g / 255, b / 255) for (r, g, b) in colors]\n",
        "\n",
        "# functions to show an image\n",
        "def imshow(img):\n",
        "    \"\"\"\n",
        "    :param img: (PyTorch Tensor)\n",
        "    \"\"\"\n",
        "    # unnormalize\n",
        "    img = img / 2 + 0.5     \n",
        "    # Convert tensor to numpy array\n",
        "    npimg = img.numpy()\n",
        "    # Color channel first -> color channel last\n",
        "    plt.imshow(np.transpose(npimg, (1, 2, 0)))\n",
        "\n",
        "\n",
        "\n",
        "def plot_losses(train_history, val_history):\n",
        "    x = np.arange(1, len(train_history) + 1)\n",
        "\n",
        "    plt.figure(figsize=(8, 6))\n",
        "    plt.plot(x, train_history, color=colors[0], label=\"Training loss\", linewidth=2)\n",
        "    plt.plot(x, val_history, color=colors[1], label=\"Validation loss\", linewidth=2)\n",
        "    plt.xlabel('Epoch')\n",
        "    plt.ylabel('Loss')\n",
        "    plt.legend(loc='upper right')\n",
        "    plt.title(\"Evolution of the training and validation loss\")\n",
        "    plt.show()\n",
        "\n",
        "def plot_confusion_matrix(cm, classes,\n",
        "                          normalize=False,\n",
        "                          title='Confusion matrix',\n",
        "                          cmap=plt.cm.Blues):\n",
        "    \"\"\"\n",
        "    This function prints and plots the confusion matrix.\n",
        "    Normalization can be applied by setting `normalize=True`.\n",
        "    from http://scikit-learn.org/stable/auto_examples/model_selection/plot_confusion_matrix.html\n",
        "    :param cm: (numpy matrix) confusion matrix\n",
        "    :param classes: [str]\n",
        "    :param normalize: (bool)\n",
        "    :param title: (str)\n",
        "    :param cmap: (matplotlib color map)\n",
        "    \"\"\"\n",
        "    if normalize:\n",
        "        cm = cm.astype('float') / cm.sum(axis=1)[:, np.newaxis]\n",
        "        \n",
        "    plt.figure(figsize=(8, 8))   \n",
        "    plt.imshow(cm, interpolation='nearest', cmap=cmap)\n",
        "    plt.title(title)\n",
        "    plt.colorbar()\n",
        "    tick_marks = np.arange(len(classes))\n",
        "    plt.xticks(tick_marks, classes, rotation=45)\n",
        "    plt.yticks(tick_marks, classes)\n",
        "\n",
        "    fmt = '.2f' if normalize else 'd'\n",
        "    thresh = cm.max() / 2.\n",
        "    for i, j in itertools.product(range(cm.shape[0]), range(cm.shape[1])):\n",
        "        plt.text(j, i, format(cm[i, j], fmt),\n",
        "                 horizontalalignment=\"center\",\n",
        "                 color=\"white\" if cm[i, j] > thresh else \"black\")\n",
        "\n",
        "    plt.tight_layout()\n",
        "    plt.ylabel('True label')\n",
        "    plt.xlabel('Predicted label')"
      ],
      "execution_count": null,
      "outputs": []
    },
    {
      "cell_type": "markdown",
      "metadata": {
        "id": "8iPn0C59cax5"
      },
      "source": [
        "### PyTorch and GPU (CUDA support)"
      ]
    },
    {
      "cell_type": "markdown",
      "metadata": {
        "id": "0kqEBjG6t2Eh"
      },
      "source": [
        "We will use the CIFAR10 dataset.\n",
        "There are 10 classes: ‘airplane’, ‘automobile’, ‘bird’, ‘cat’, ‘deer’,\n",
        "‘dog’, ‘frog’, ‘horse’, ‘ship’, ‘truck’. The images in CIFAR-10 are of\n",
        "size 3x32x32, i.e. 3-channel color images of 32x32 pixels in size.\n",
        "\n",
        "\n",
        "![CIFAR10](http://pytorch.org/tutorials/_images/cifar10.png)"
      ]
    },
    {
      "cell_type": "code",
      "metadata": {
        "id": "KRrvrIi0t2Em"
      },
      "source": [
        "import torch\n",
        "import torchvision\n",
        "import torchvision.transforms as transforms"
      ],
      "execution_count": null,
      "outputs": []
    },
    {
      "cell_type": "code",
      "metadata": {
        "id": "335xvR6acayB"
      },
      "source": [
        "seed = 42\n",
        "np.random.seed(seed)\n",
        "torch.manual_seed(seed)\n",
        "\n",
        "if th.cuda.is_available():\n",
        "  # Make CuDNN Determinist\n",
        "  th.backends.cudnn.deterministic = True\n",
        "  th.cuda.manual_seed(seed)\n",
        "\n",
        "# Define default device, we should use the GPU (cuda) if available\n",
        "device = th.device(\"cuda\" if th.cuda.is_available() else \"cpu\")\n"
      ],
      "execution_count": null,
      "outputs": []
    },
    {
      "cell_type": "code",
      "metadata": {
        "id": "Nwu-wWh3cayI"
      },
      "source": [
        "from torch.utils.data.sampler import SubsetRandomSampler\n",
        "\n",
        "n_training_samples = 40000 # Max: 50 000 - n_val_samples\n",
        "n_val_samples = 10000\n",
        "\n",
        "\n",
        "train_sampler = SubsetRandomSampler(np.arange(n_training_samples, dtype=np.int64))\n",
        "val_sampler = SubsetRandomSampler(np.arange(n_training_samples, n_training_samples + n_val_samples, dtype=np.int64))\n",
        "#test_sampler = SubsetRandomSampler(np.arange(n_test_samples, dtype=np.int64))  # we can use it to test on a subset\n",
        "# (In the last case, indexes do not need to account for training ones because the train=False parameter in datasets.CIFAR will select from the test set)"
      ],
      "execution_count": null,
      "outputs": []
    },
    {
      "cell_type": "markdown",
      "metadata": {
        "id": "evFXNmbst2Ez"
      },
      "source": [
        "The output of torchvision datasets are PILImage images of range [0, 1].\n",
        "We transform them to Tensors of normalized range [-1, 1]\n",
        "\n"
      ]
    },
    {
      "cell_type": "code",
      "metadata": {
        "id": "ZJ-hYN00t2E2",
        "outputId": "1d95fee3-28bc-4e54-968d-43d2376540d4",
        "colab": {
          "base_uri": "https://localhost:8080/",
          "height": 102,
          "referenced_widgets": [
            "c2fdfa0a64ae454cb52a33ffb412774e",
            "d5ae2e407975441ea4355c5a4f6faee4",
            "7c58ff7b1cad462badd2939f85b7e158",
            "76fdcd4817f543e79d0c1d240bfe54c8",
            "849af76d92fa4cfca2f3f060875a8612",
            "44e77c51a76149328dccd8fd8264ee1c",
            "bff1ef0a7af14d7fa54d4530cdf509c8",
            "d8e76f5effdc48a3bfd65dee2a914858"
          ]
        }
      },
      "source": [
        "num_workers = 5\n",
        "test_batch_size = 4\n",
        "\n",
        "transform = transforms.Compose(\n",
        "    [transforms.ToTensor(),\n",
        "     transforms.Normalize(mean=(0.5, 0.5, 0.5), std=(0.5, 0.5, 0.5))])\n",
        "\n",
        "train_set = torchvision.datasets.CIFAR10(root='./data', train=True,\n",
        "                                        download=True, transform=transform)\n",
        "\n",
        "train_loader = torch.utils.data.DataLoader(train_set, batch_size=test_batch_size, sampler=train_sampler,\n",
        "                                          num_workers=num_workers)\n",
        "\n",
        "test_set = torchvision.datasets.CIFAR10(root='./data', train=False,\n",
        "                                       download=True, transform=transform)\n",
        "test_loader = torch.utils.data.DataLoader(test_set, batch_size=test_batch_size,\n",
        "                                         num_workers=num_workers)\n",
        "\n",
        "classes = ('plane', 'car', 'bird', 'cat',\n",
        "           'deer', 'dog', 'frog', 'horse', 'ship', 'truck')"
      ],
      "execution_count": null,
      "outputs": [
        {
          "output_type": "stream",
          "text": [
            "Downloading https://www.cs.toronto.edu/~kriz/cifar-10-python.tar.gz to ./data/cifar-10-python.tar.gz\n"
          ],
          "name": "stdout"
        },
        {
          "output_type": "display_data",
          "data": {
            "application/vnd.jupyter.widget-view+json": {
              "model_id": "c2fdfa0a64ae454cb52a33ffb412774e",
              "version_minor": 0,
              "version_major": 2
            },
            "text/plain": [
              "HBox(children=(FloatProgress(value=1.0, bar_style='info', max=1.0), HTML(value='')))"
            ]
          },
          "metadata": {
            "tags": []
          }
        },
        {
          "output_type": "stream",
          "text": [
            "Extracting ./data/cifar-10-python.tar.gz to ./data\n",
            "Files already downloaded and verified\n"
          ],
          "name": "stdout"
        }
      ]
    },
    {
      "cell_type": "markdown",
      "metadata": {
        "id": "cGWVnBOft2FI"
      },
      "source": [
        "Let us show some of the training images, for fun.\n",
        "\n"
      ]
    },
    {
      "cell_type": "code",
      "metadata": {
        "id": "68OfC35ut2FM",
        "outputId": "3d837832-cc2a-47ef-e441-a84652550eb4",
        "colab": {
          "base_uri": "https://localhost:8080/",
          "height": 174
        }
      },
      "source": [
        "# get some random training images\n",
        "dataiter = iter(train_loader)\n",
        "images, labels = dataiter.next()\n",
        "\n",
        "# show images\n",
        "imshow(torchvision.utils.make_grid(images))\n",
        "# print labels\n",
        "print(' '.join('{:>10}'.format(classes[labels[j]]) for j in range(test_batch_size)))"
      ],
      "execution_count": null,
      "outputs": [
        {
          "output_type": "stream",
          "text": [
            "\n",
            "     horse        cat        cat      horse\n"
          ],
          "name": "stdout"
        },
        {
          "output_type": "display_data",
          "data": {
            "image/png": "[encoded data removed]",
            "text/plain": [
              "<Figure size 432x288 with 1 Axes>"
            ]
          },
          "metadata": {
            "tags": [],
            "needs_background": "light"
          }
        }
      ]
    },
    {
      "cell_type": "code",
      "metadata": {
        "id": "6k6rJyTTcayi"
      },
      "source": [
        "# Useful imports\n",
        "import torch.nn as nn\n",
        "import torch.nn.functional as F"
      ],
      "execution_count": null,
      "outputs": []
    },
    {
      "cell_type": "code",
      "metadata": {
        "id": "DOUiPtZQt2Fx"
      },
      "source": [
        "import torch.optim as optim\n",
        "\n",
        "def createLossAndOptimizer(net, learning_rate=0.001):\n",
        "    # it combines softmax with negative log likelihood loss\n",
        "    criterion = nn.CrossEntropyLoss()\n",
        "    #optimizer = optim.SGD(net.parameters(), lr=learning_rate, momentum=0.9, weight_decay=0.003)\n",
        "    optimizer = optim.Adam(net.parameters(), lr=learning_rate, weight_decay=0.003)\n",
        "    return criterion, optimizer"
      ],
      "execution_count": null,
      "outputs": []
    },
    {
      "cell_type": "code",
      "metadata": {
        "id": "EqDD8_z8cay2"
      },
      "source": [
        "def get_train_loader(batch_size):\n",
        "    return torch.utils.data.DataLoader(train_set, batch_size=batch_size, sampler=train_sampler,\n",
        "                                              num_workers=num_workers)\n",
        "\n",
        "# Use larger batch size for validation to speed up computation\n",
        "val_loader = torch.utils.data.DataLoader(train_set, batch_size=128, sampler=val_sampler,\n",
        "                                          num_workers=num_workers)"
      ],
      "execution_count": null,
      "outputs": []
    },
    {
      "cell_type": "code",
      "metadata": {
        "id": "dATbDR5pt2GE"
      },
      "source": [
        "def train(net, batch_size, n_epochs, learning_rate, must_print=True):\n",
        "    \"\"\"\n",
        "    Train a neural network and print statistics of the training\n",
        "    \n",
        "    :param net: (PyTorch Neural Network)\n",
        "    :param batch_size: (int)\n",
        "    :param n_epochs: (int)  Number of iterations on the training set\n",
        "    :param learning_rate: (float) learning rate used by the optimizer\n",
        "    :param must_print: (bool) if true, print statement\n",
        "    \"\"\"\n",
        "    print(\"===== HYPERPARAMETERS =====\")\n",
        "    print(\"batch_size=\", batch_size)\n",
        "    print(\"n_epochs=\", n_epochs)\n",
        "    print(\"learning_rate=\", learning_rate)\n",
        "    print(\"=\" * 30)\n",
        "    \n",
        "    train_loader = get_train_loader(batch_size)\n",
        "    n_minibatches = len(train_loader)\n",
        "\n",
        "    criterion, optimizer = createLossAndOptimizer(net, learning_rate)\n",
        "    # Init variables used for plotting the loss\n",
        "    train_history = []\n",
        "    val_history = []\n",
        "\n",
        "    training_start_time = time.time()\n",
        "    best_error = np.inf\n",
        "    best_model_path = \"best_model.pth\"\n",
        "    \n",
        "    # Move model to gpu if possible\n",
        "    net = net.to(device)\n",
        "\n",
        "    for epoch in range(n_epochs):  # loop over the dataset multiple times\n",
        "\n",
        "        running_loss = 0.0\n",
        "        print_every = n_minibatches // 10\n",
        "        start_time = time.time()\n",
        "        total_train_loss = 0\n",
        "        \n",
        "        for i, (inputs, labels) in enumerate(train_loader):\n",
        "\n",
        "            # Move tensors to correct device\n",
        "            inputs, labels = inputs.to(device), labels.to(device)\n",
        "\n",
        "            # zero the parameter gradients\n",
        "            optimizer.zero_grad()\n",
        "\n",
        "            # forward + backward + optimize\n",
        "            outputs = net(inputs)\n",
        "            loss = criterion(outputs, labels)\n",
        "            loss.backward()\n",
        "            optimizer.step()\n",
        "\n",
        "            # print statistics\n",
        "            running_loss += loss.item()\n",
        "            total_train_loss += loss.item()\n",
        "\n",
        "            # print every 10th of epoch\n",
        "            if (i + 1) % (print_every + 1) == 0 and must_print:    \n",
        "                print(\"Epoch {}, {:d}% \\t train_loss: {:.2f} took: {:.2f}s\".format(\n",
        "                      epoch + 1, int(100 * (i + 1) / n_minibatches), running_loss / print_every,\n",
        "                      time.time() - start_time))\n",
        "                running_loss = 0.0\n",
        "                start_time = time.time()\n",
        "\n",
        "        train_history.append(total_train_loss / len(train_loader))\n",
        "\n",
        "        total_val_loss = 0\n",
        "        # Do a pass on the validation set\n",
        "        # We don't need to compute gradient,\n",
        "        # we save memory and computation using th.no_grad()\n",
        "        with th.no_grad():\n",
        "          for inputs, labels in val_loader:\n",
        "              # Move tensors to correct device\n",
        "              inputs, labels = inputs.to(device), labels.to(device)\n",
        "              # Forward pass\n",
        "              predictions = net(inputs)\n",
        "              val_loss = criterion(predictions, labels)\n",
        "              total_val_loss += val_loss.item()\n",
        "            \n",
        "        val_history.append(total_val_loss / len(val_loader))\n",
        "        # Save model that performs best on validation set\n",
        "        if total_val_loss < best_error:\n",
        "            best_error = total_val_loss\n",
        "            th.save(net.state_dict(), best_model_path)\n",
        "        if must_print:\n",
        "          print(\"Validation loss = {:.2f}\".format(total_val_loss / len(val_loader)))\n",
        "\n",
        "    if must_print:\n",
        "      print(\"Training Finished, took {:.2f}s\".format(time.time() - training_start_time))\n",
        "    \n",
        "    # Load best model\n",
        "    net.load_state_dict(th.load(best_model_path))\n",
        "    \n",
        "    return train_history, val_history"
      ],
      "execution_count": null,
      "outputs": []
    },
    {
      "cell_type": "code",
      "metadata": {
        "id": "LI6JtYwTt2HM",
        "outputId": "bcdaf532-9258-45d5-9093-29b712609211",
        "colab": {
          "base_uri": "https://localhost:8080/",
          "height": 34
        }
      },
      "source": [
        "def dataset_accuracy(net, data_loader, name=\"\"):\n",
        "    net = net.to(device)\n",
        "    correct = 0\n",
        "    total = 0\n",
        "    for images, labels in data_loader:\n",
        "        images, labels = images.to(device), labels.to(device)\n",
        "        outputs = net(images)\n",
        "        _, predicted = torch.max(outputs, 1) #_ max value, predicted return index of max value for each line\n",
        "        total += labels.size(0)\n",
        "        correct += (predicted == labels).sum()\n",
        "    accuracy = 100 * float(correct) / total\n",
        "    print('Accuracy of the network on the {} {} images: {:.2f} %'.format(total, name, accuracy))\n",
        "    return accuracy\n",
        "\n",
        "def train_set_accuracy(net):\n",
        "    dataset_accuracy(net, train_loader, \"train\")\n",
        "\n",
        "def val_set_accuracy(net):\n",
        "    dataset_accuracy(net, val_loader, \"validation\")  \n",
        "    \n",
        "def test_set_accuracy(net):\n",
        "    return dataset_accuracy(net, test_loader, \"test\")\n",
        "\n",
        "def compute_accuracy(net):\n",
        "    train_set_accuracy(net)\n",
        "    val_set_accuracy(net)\n",
        "    acc = test_set_accuracy(net)\n",
        "    return acc"
      ],
      "execution_count": null,
      "outputs": [
        {
          "output_type": "stream",
          "text": [
            "Computing accuracy...\n"
          ],
          "name": "stdout"
        }
      ]
    },
    {
      "cell_type": "code",
      "metadata": {
        "id": "rkim9_INt2HY",
        "outputId": "9289c34b-4738-44ee-b0da-a542cbdcde4c",
        "colab": {
          "base_uri": "https://localhost:8080/",
          "height": 204
        }
      },
      "source": [
        "def accuracy_per_class(net):\n",
        "    net = net.to(device)\n",
        "    n_classes = 10\n",
        "    # (real, predicted)\n",
        "    confusion_matrix = np.zeros((n_classes, n_classes), dtype=np.int64)\n",
        "\n",
        "    for images, labels in test_loader:\n",
        "        images, labels = images.to(device), labels.to(device)\n",
        "        outputs = net(images)\n",
        "        _, predicted = torch.max(outputs.data, 1)\n",
        "        for i in range(test_batch_size):\n",
        "            confusion_matrix[labels[i], predicted[i]] += 1\n",
        "            label = labels[i]\n",
        "\n",
        "    print(\"{:<10} {:^10}\".format(\"Class\", \"Accuracy (%)\"))\n",
        "    for i in range(n_classes):\n",
        "        class_total = confusion_matrix[i, :].sum()\n",
        "        class_correct = confusion_matrix[i, i]\n",
        "        percentage_correct = 100.0 * float(class_correct) / class_total\n",
        "        \n",
        "        print('{:<10} {:^10.2f}'.format(classes[i], percentage_correct))\n",
        "    return confusion_matrix"
      ],
      "execution_count": null,
      "outputs": [
        {
          "output_type": "stream",
          "text": [
            "Class      Accuracy (%)\n",
            "plane        73.70   \n",
            "car          75.40   \n",
            "bird         49.50   \n",
            "cat          34.10   \n",
            "deer         60.80   \n",
            "dog          63.50   \n",
            "frog         76.20   \n",
            "horse        67.50   \n",
            "ship         65.30   \n",
            "truck        77.60   \n"
          ],
          "name": "stdout"
        }
      ]
    },
    {
      "cell_type": "code",
      "metadata": {
        "id": "fnKUPUDTcaz1"
      },
      "source": [
        "class MyConvolutionalNetwork(nn.Module):\n",
        "    def __init__(self):\n",
        "        super(MyConvolutionalNetwork, self).__init__()\n",
        "        \n",
        "        self.conv1 = nn.Conv2d(3, 18, kernel_size=3, stride=1, padding=1)\n",
        "        self.pool = nn.MaxPool2d(kernel_size=2, stride=2, padding=0)\n",
        " \n",
        "        #### START CODE: ADD NEW LAYERS ####\n",
        "        # (do not forget to update `flattened_size`:\n",
        "        # the input size of the first fully connected layer self.fc1)\n",
        "\n",
        "        self.conv2 = nn.Conv2d(18, 64, kernel_size = 3, stride = 1, padding=1)      \n",
        "        self.conv2bis = nn.Conv2d(64, 64, kernel_size = 3, stride = 1, padding=1) \n",
        " \n",
        "        self.conv3 = nn.Conv2d(64, 128, kernel_size = 3, stride = 1, padding=1)     \n",
        "        self.conv3bis = nn.Conv2d(128, 128, kernel_size = 3, stride = 1, padding=1)\n",
        "\n",
        "        torch.nn.init.kaiming_uniform_(self.conv3.weight)\n",
        "        torch.nn.init.kaiming_uniform_(self.conv3bis.weight)\n",
        "        torch.nn.init.kaiming_uniform_(self.conv2.weight)\n",
        "        torch.nn.init.kaiming_uniform_(self.conv2bis.weight)\n",
        "        torch.nn.init.kaiming_uniform_(self.conv1.weight)\n",
        "        \n",
        "        # Size of the output of the last convolution:\n",
        "        self.flattened_size = 128 * 4 * 4\n",
        "        ### END CODE ###\n",
        "        \n",
        "        self.fc1 = nn.Linear(self.flattened_size, 64)\n",
        "        self.fc2 = nn.Linear(64, 10)\n",
        " \n",
        "    def forward(self, x):\n",
        "        \"\"\"\n",
        "        Forward pass,\n",
        "        x shape is (batch_size, 3, 32, 32)\n",
        "        (color channel first)\n",
        "        in the comments, we omit the batch_size in the shape\n",
        "        \"\"\"\n",
        "        # shape : 3x32x32 -> 18x32x32\n",
        "        x = F.relu(self.conv1(x))\n",
        "        # 18x32x32 -> 18x16x16\n",
        "        x = self.pool(x)      \n",
        "        \n",
        "        #### START CODE: USE YOUR NEW LAYERS HERE ####\n",
        "\n",
        "        x = F.relu(self.conv2(x))\n",
        "        x = F.relu(self.conv2bis(x))\n",
        "        x = self.pool(x) \n",
        "        \n",
        "        x = F.relu(self.conv3(x))\n",
        "        x = F.relu(self.conv3bis(x))\n",
        "        x = self.pool(x)        \n",
        "\n",
        "        #### END CODE ####\n",
        "        \n",
        "        # Check the output size\n",
        "        output_size = np.prod(x.size()[1:])\n",
        "        assert output_size == self.flattened_size,\\\n",
        "                \"self.flattened_size is invalid {} != {}\".format(output_size, self.flattened_size)\n",
        "        \n",
        "         # 18x16x16 -> 4608\n",
        "        x = x.view(-1, self.flattened_size)\n",
        "        # 4608 -> 64\n",
        "        x = F.relu(self.fc1(x))\n",
        "        # 64 -> 10\n",
        "        # The softmax non-linearity is applied later (cf createLossAndOptimizer() fn)\n",
        "        x = self.fc2(x)\n",
        "        return x"
      ],
      "execution_count": null,
      "outputs": []
    },
    {
      "cell_type": "code",
      "metadata": {
        "id": "TWowqQhYca0B",
        "outputId": "093e911b-45cc-420c-a4c4-c078014dc39d",
        "colab": {
          "base_uri": "https://localhost:8080/",
          "height": 1000
        }
      },
      "source": [
        "best_net = MyConvolutionalNetwork()\n",
        "train_history, val_history = train(best_net, batch_size=64, n_epochs=30, learning_rate=0.001, must_print=True)\n",
        "compute_accuracy(best_net)"
      ],
      "execution_count": null,
      "outputs": [
        {
          "output_type": "stream",
          "text": [
            "===== HYPERPARAMETERS =====\n",
            "batch_size= 64\n",
            "n_epochs= 30\n",
            "learning_rate= 0.001\n",
            "==============================\n",
            "Epoch 1, 10% \t train_loss: 2.16 took: 1.30s\n",
            "Epoch 1, 20% \t train_loss: 1.87 took: 1.02s\n",
            "Epoch 1, 30% \t train_loss: 1.70 took: 1.05s\n",
            "Epoch 1, 40% \t train_loss: 1.61 took: 1.02s\n",
            "Epoch 1, 50% \t train_loss: 1.55 took: 1.02s\n",
            "Epoch 1, 60% \t train_loss: 1.49 took: 1.11s\n",
            "Epoch 1, 70% \t train_loss: 1.43 took: 1.04s\n",
            "Epoch 1, 80% \t train_loss: 1.38 took: 1.23s\n",
            "Epoch 1, 90% \t train_loss: 1.37 took: 1.07s\n",
            "Validation loss = 1.30\n",
            "Epoch 2, 10% \t train_loss: 1.28 took: 1.35s\n",
            "Epoch 2, 20% \t train_loss: 1.26 took: 1.03s\n",
            "Epoch 2, 30% \t train_loss: 1.22 took: 1.23s\n",
            "Epoch 2, 40% \t train_loss: 1.21 took: 1.08s\n",
            "Epoch 2, 50% \t train_loss: 1.23 took: 1.07s\n",
            "Epoch 2, 60% \t train_loss: 1.18 took: 1.03s\n",
            "Epoch 2, 70% \t train_loss: 1.16 took: 1.04s\n",
            "Epoch 2, 80% \t train_loss: 1.15 took: 1.02s\n",
            "Epoch 2, 90% \t train_loss: 1.14 took: 1.00s\n",
            "Validation loss = 1.10\n",
            "Epoch 3, 10% \t train_loss: 1.04 took: 1.27s\n",
            "Epoch 3, 20% \t train_loss: 1.05 took: 1.15s\n",
            "Epoch 3, 30% \t train_loss: 1.06 took: 1.01s\n",
            "Epoch 3, 40% \t train_loss: 1.03 took: 0.98s\n",
            "Epoch 3, 50% \t train_loss: 1.05 took: 1.01s\n",
            "Epoch 3, 60% \t train_loss: 0.98 took: 1.01s\n",
            "Epoch 3, 70% \t train_loss: 1.03 took: 1.00s\n",
            "Epoch 3, 80% \t train_loss: 0.99 took: 1.01s\n",
            "Epoch 3, 90% \t train_loss: 0.99 took: 1.00s\n",
            "Validation loss = 1.01\n",
            "Epoch 4, 10% \t train_loss: 0.94 took: 1.28s\n",
            "Epoch 4, 20% \t train_loss: 0.92 took: 0.98s\n",
            "Epoch 4, 30% \t train_loss: 0.97 took: 0.97s\n",
            "Epoch 4, 40% \t train_loss: 0.94 took: 0.93s\n",
            "Epoch 4, 50% \t train_loss: 0.93 took: 0.99s\n",
            "Epoch 4, 60% \t train_loss: 0.93 took: 1.03s\n",
            "Epoch 4, 70% \t train_loss: 0.91 took: 0.98s\n",
            "Epoch 4, 80% \t train_loss: 0.95 took: 0.97s\n",
            "Epoch 4, 90% \t train_loss: 0.93 took: 0.97s\n",
            "Validation loss = 0.91\n",
            "Epoch 5, 10% \t train_loss: 0.84 took: 1.24s\n",
            "Epoch 5, 20% \t train_loss: 0.87 took: 1.04s\n",
            "Epoch 5, 30% \t train_loss: 0.87 took: 0.98s\n",
            "Epoch 5, 40% \t train_loss: 0.88 took: 1.10s\n",
            "Epoch 5, 50% \t train_loss: 0.87 took: 1.01s\n",
            "Epoch 5, 60% \t train_loss: 0.86 took: 1.09s\n",
            "Epoch 5, 70% \t train_loss: 0.88 took: 0.96s\n",
            "Epoch 5, 80% \t train_loss: 0.85 took: 1.06s\n",
            "Epoch 5, 90% \t train_loss: 0.85 took: 1.00s\n",
            "Validation loss = 0.90\n",
            "Epoch 6, 10% \t train_loss: 0.84 took: 1.28s\n",
            "Epoch 6, 20% \t train_loss: 0.82 took: 0.95s\n",
            "Epoch 6, 30% \t train_loss: 0.83 took: 0.95s\n",
            "Epoch 6, 40% \t train_loss: 0.85 took: 0.94s\n",
            "Epoch 6, 50% \t train_loss: 0.80 took: 1.00s\n",
            "Epoch 6, 60% \t train_loss: 0.80 took: 0.97s\n",
            "Epoch 6, 70% \t train_loss: 0.82 took: 0.98s\n",
            "Epoch 6, 80% \t train_loss: 0.80 took: 0.97s\n",
            "Epoch 6, 90% \t train_loss: 0.81 took: 1.08s\n",
            "Validation loss = 0.81\n",
            "Epoch 7, 10% \t train_loss: 0.74 took: 1.23s\n",
            "Epoch 7, 20% \t train_loss: 0.80 took: 0.98s\n",
            "Epoch 7, 30% \t train_loss: 0.77 took: 0.98s\n",
            "Epoch 7, 40% \t train_loss: 0.78 took: 0.98s\n",
            "Epoch 7, 50% \t train_loss: 0.80 took: 1.11s\n",
            "Epoch 7, 60% \t train_loss: 0.78 took: 0.97s\n",
            "Epoch 7, 70% \t train_loss: 0.75 took: 1.15s\n",
            "Epoch 7, 80% \t train_loss: 0.78 took: 1.08s\n",
            "Epoch 7, 90% \t train_loss: 0.81 took: 1.03s\n",
            "Validation loss = 0.94\n",
            "Epoch 8, 10% \t train_loss: 0.72 took: 1.39s\n",
            "Epoch 8, 20% \t train_loss: 0.74 took: 1.07s\n",
            "Epoch 8, 30% \t train_loss: 0.71 took: 0.99s\n",
            "Epoch 8, 40% \t train_loss: 0.76 took: 0.98s\n",
            "Epoch 8, 50% \t train_loss: 0.74 took: 0.98s\n",
            "Epoch 8, 60% \t train_loss: 0.73 took: 1.08s\n",
            "Epoch 8, 70% \t train_loss: 0.78 took: 1.07s\n",
            "Epoch 8, 80% \t train_loss: 0.76 took: 0.98s\n",
            "Epoch 8, 90% \t train_loss: 0.77 took: 0.93s\n",
            "Validation loss = 0.78\n",
            "Epoch 9, 10% \t train_loss: 0.69 took: 1.18s\n",
            "Epoch 9, 20% \t train_loss: 0.66 took: 0.93s\n",
            "Epoch 9, 30% \t train_loss: 0.65 took: 0.93s\n",
            "Epoch 9, 40% \t train_loss: 0.74 took: 0.97s\n",
            "Epoch 9, 50% \t train_loss: 0.71 took: 0.96s\n",
            "Epoch 9, 60% \t train_loss: 0.73 took: 0.92s\n",
            "Epoch 9, 70% \t train_loss: 0.71 took: 0.92s\n",
            "Epoch 9, 80% \t train_loss: 0.74 took: 0.96s\n",
            "Epoch 9, 90% \t train_loss: 0.70 took: 0.94s\n",
            "Validation loss = 0.77\n",
            "Epoch 10, 10% \t train_loss: 0.67 took: 1.35s\n",
            "Epoch 10, 20% \t train_loss: 0.67 took: 0.98s\n",
            "Epoch 10, 30% \t train_loss: 0.67 took: 0.96s\n",
            "Epoch 10, 40% \t train_loss: 0.70 took: 0.95s\n",
            "Epoch 10, 50% \t train_loss: 0.67 took: 0.92s\n",
            "Epoch 10, 60% \t train_loss: 0.69 took: 1.01s\n",
            "Epoch 10, 70% \t train_loss: 0.68 took: 1.09s\n",
            "Epoch 10, 80% \t train_loss: 0.71 took: 0.97s\n",
            "Epoch 10, 90% \t train_loss: 0.70 took: 0.92s\n",
            "Validation loss = 0.74\n",
            "Epoch 11, 10% \t train_loss: 0.64 took: 1.21s\n",
            "Epoch 11, 20% \t train_loss: 0.62 took: 0.92s\n",
            "Epoch 11, 30% \t train_loss: 0.64 took: 0.94s\n",
            "Epoch 11, 40% \t train_loss: 0.68 took: 0.93s\n",
            "Epoch 11, 50% \t train_loss: 0.65 took: 0.94s\n",
            "Epoch 11, 60% \t train_loss: 0.65 took: 0.90s\n",
            "Epoch 11, 70% \t train_loss: 0.69 took: 0.95s\n",
            "Epoch 11, 80% \t train_loss: 0.66 took: 0.91s\n",
            "Epoch 11, 90% \t train_loss: 0.66 took: 0.91s\n",
            "Validation loss = 0.72\n",
            "Epoch 12, 10% \t train_loss: 0.57 took: 1.20s\n",
            "Epoch 12, 20% \t train_loss: 0.64 took: 0.93s\n",
            "Epoch 12, 30% \t train_loss: 0.63 took: 0.95s\n",
            "Epoch 12, 40% \t train_loss: 0.65 took: 0.98s\n",
            "Epoch 12, 50% \t train_loss: 0.63 took: 1.07s\n",
            "Epoch 12, 60% \t train_loss: 0.67 took: 0.95s\n",
            "Epoch 12, 70% \t train_loss: 0.64 took: 1.07s\n",
            "Epoch 12, 80% \t train_loss: 0.63 took: 0.94s\n",
            "Epoch 12, 90% \t train_loss: 0.67 took: 1.06s\n",
            "Validation loss = 0.71\n",
            "Epoch 13, 10% \t train_loss: 0.60 took: 1.20s\n",
            "Epoch 13, 20% \t train_loss: 0.63 took: 0.93s\n",
            "Epoch 13, 30% \t train_loss: 0.59 took: 0.92s\n",
            "Epoch 13, 40% \t train_loss: 0.61 took: 0.96s\n",
            "Epoch 13, 50% \t train_loss: 0.61 took: 0.90s\n",
            "Epoch 13, 60% \t train_loss: 0.62 took: 0.92s\n",
            "Epoch 13, 70% \t train_loss: 0.62 took: 0.94s\n",
            "Epoch 13, 80% \t train_loss: 0.61 took: 0.93s\n",
            "Epoch 13, 90% \t train_loss: 0.65 took: 0.95s\n",
            "Validation loss = 0.73\n",
            "Epoch 14, 10% \t train_loss: 0.58 took: 1.20s\n",
            "Epoch 14, 20% \t train_loss: 0.57 took: 0.92s\n",
            "Epoch 14, 30% \t train_loss: 0.60 took: 1.09s\n",
            "Epoch 14, 40% \t train_loss: 0.60 took: 1.03s\n",
            "Epoch 14, 50% \t train_loss: 0.62 took: 0.99s\n",
            "Epoch 14, 60% \t train_loss: 0.59 took: 0.94s\n",
            "Epoch 14, 70% \t train_loss: 0.59 took: 0.90s\n",
            "Epoch 14, 80% \t train_loss: 0.59 took: 0.94s\n",
            "Epoch 14, 90% \t train_loss: 0.62 took: 0.95s\n",
            "Validation loss = 0.69\n",
            "Epoch 15, 10% \t train_loss: 0.53 took: 1.26s\n",
            "Epoch 15, 20% \t train_loss: 0.56 took: 0.97s\n",
            "Epoch 15, 30% \t train_loss: 0.56 took: 0.97s\n",
            "Epoch 15, 40% \t train_loss: 0.58 took: 1.02s\n",
            "Epoch 15, 50% \t train_loss: 0.56 took: 1.04s\n",
            "Epoch 15, 60% \t train_loss: 0.60 took: 0.99s\n",
            "Epoch 15, 70% \t train_loss: 0.59 took: 0.95s\n",
            "Epoch 15, 80% \t train_loss: 0.61 took: 1.03s\n",
            "Epoch 15, 90% \t train_loss: 0.59 took: 0.95s\n",
            "Validation loss = 0.76\n",
            "Epoch 16, 10% \t train_loss: 0.54 took: 1.17s\n",
            "Epoch 16, 20% \t train_loss: 0.52 took: 0.92s\n",
            "Epoch 16, 30% \t train_loss: 0.55 took: 0.91s\n",
            "Epoch 16, 40% \t train_loss: 0.55 took: 1.01s\n",
            "Epoch 16, 50% \t train_loss: 0.54 took: 1.06s\n",
            "Epoch 16, 60% \t train_loss: 0.58 took: 0.92s\n",
            "Epoch 16, 70% \t train_loss: 0.59 took: 0.89s\n",
            "Epoch 16, 80% \t train_loss: 0.60 took: 0.90s\n",
            "Epoch 16, 90% \t train_loss: 0.60 took: 0.90s\n",
            "Validation loss = 0.74\n",
            "Epoch 17, 10% \t train_loss: 0.51 took: 1.19s\n",
            "Epoch 17, 20% \t train_loss: 0.53 took: 0.88s\n",
            "Epoch 17, 30% \t train_loss: 0.54 took: 0.91s\n",
            "Epoch 17, 40% \t train_loss: 0.54 took: 1.01s\n",
            "Epoch 17, 50% \t train_loss: 0.55 took: 0.96s\n",
            "Epoch 17, 60% \t train_loss: 0.54 took: 1.03s\n",
            "Epoch 17, 70% \t train_loss: 0.58 took: 0.91s\n",
            "Epoch 17, 80% \t train_loss: 0.59 took: 0.91s\n",
            "Epoch 17, 90% \t train_loss: 0.57 took: 0.92s\n",
            "Validation loss = 0.70\n",
            "Epoch 18, 10% \t train_loss: 0.48 took: 1.23s\n",
            "Epoch 18, 20% \t train_loss: 0.48 took: 0.93s\n",
            "Epoch 18, 30% \t train_loss: 0.50 took: 1.06s\n",
            "Epoch 18, 40% \t train_loss: 0.52 took: 0.96s\n",
            "Epoch 18, 50% \t train_loss: 0.57 took: 0.93s\n",
            "Epoch 18, 60% \t train_loss: 0.57 took: 0.91s\n",
            "Epoch 18, 70% \t train_loss: 0.55 took: 0.94s\n",
            "Epoch 18, 80% \t train_loss: 0.57 took: 0.95s\n",
            "Epoch 18, 90% \t train_loss: 0.56 took: 0.89s\n",
            "Validation loss = 0.73\n",
            "Epoch 19, 10% \t train_loss: 0.50 took: 1.36s\n",
            "Epoch 19, 20% \t train_loss: 0.51 took: 0.95s\n",
            "Epoch 19, 30% \t train_loss: 0.52 took: 0.92s\n",
            "Epoch 19, 40% \t train_loss: 0.52 took: 0.95s\n",
            "Epoch 19, 50% \t train_loss: 0.55 took: 1.08s\n",
            "Epoch 19, 60% \t train_loss: 0.54 took: 0.93s\n",
            "Epoch 19, 70% \t train_loss: 0.53 took: 1.10s\n",
            "Epoch 19, 80% \t train_loss: 0.54 took: 0.96s\n",
            "Epoch 19, 90% \t train_loss: 0.56 took: 1.05s\n",
            "Validation loss = 0.71\n",
            "Epoch 20, 10% \t train_loss: 0.47 took: 1.29s\n",
            "Epoch 20, 20% \t train_loss: 0.47 took: 0.91s\n",
            "Epoch 20, 30% \t train_loss: 0.50 took: 0.89s\n",
            "Epoch 20, 40% \t train_loss: 0.55 took: 0.93s\n",
            "Epoch 20, 50% \t train_loss: 0.52 took: 1.08s\n",
            "Epoch 20, 60% \t train_loss: 0.52 took: 0.91s\n",
            "Epoch 20, 70% \t train_loss: 0.52 took: 1.02s\n",
            "Epoch 20, 80% \t train_loss: 0.50 took: 0.95s\n",
            "Epoch 20, 90% \t train_loss: 0.55 took: 0.90s\n",
            "Validation loss = 0.70\n",
            "Epoch 21, 10% \t train_loss: 0.45 took: 1.18s\n",
            "Epoch 21, 20% \t train_loss: 0.50 took: 0.90s\n",
            "Epoch 21, 30% \t train_loss: 0.48 took: 0.89s\n",
            "Epoch 21, 40% \t train_loss: 0.49 took: 0.92s\n",
            "Epoch 21, 50% \t train_loss: 0.52 took: 1.06s\n",
            "Epoch 21, 60% \t train_loss: 0.51 took: 0.93s\n",
            "Epoch 21, 70% \t train_loss: 0.53 took: 0.92s\n",
            "Epoch 21, 80% \t train_loss: 0.52 took: 0.96s\n",
            "Epoch 21, 90% \t train_loss: 0.51 took: 1.05s\n",
            "Validation loss = 0.71\n",
            "Epoch 22, 10% \t train_loss: 0.47 took: 1.18s\n",
            "Epoch 22, 20% \t train_loss: 0.46 took: 1.02s\n",
            "Epoch 22, 30% \t train_loss: 0.48 took: 1.07s\n",
            "Epoch 22, 40% \t train_loss: 0.49 took: 0.96s\n",
            "Epoch 22, 50% \t train_loss: 0.47 took: 1.06s\n",
            "Epoch 22, 60% \t train_loss: 0.50 took: 0.92s\n",
            "Epoch 22, 70% \t train_loss: 0.50 took: 1.07s\n",
            "Epoch 22, 80% \t train_loss: 0.53 took: 1.05s\n",
            "Epoch 22, 90% \t train_loss: 0.54 took: 0.90s\n",
            "Validation loss = 0.69\n",
            "Epoch 23, 10% \t train_loss: 0.44 took: 1.16s\n",
            "Epoch 23, 20% \t train_loss: 0.46 took: 0.90s\n",
            "Epoch 23, 30% \t train_loss: 0.47 took: 1.03s\n",
            "Epoch 23, 40% \t train_loss: 0.46 took: 0.95s\n",
            "Epoch 23, 50% \t train_loss: 0.51 took: 0.88s\n",
            "Epoch 23, 60% \t train_loss: 0.47 took: 1.00s\n",
            "Epoch 23, 70% \t train_loss: 0.47 took: 1.08s\n",
            "Epoch 23, 80% \t train_loss: 0.49 took: 0.94s\n",
            "Epoch 23, 90% \t train_loss: 0.50 took: 0.92s\n",
            "Validation loss = 0.71\n",
            "Epoch 24, 10% \t train_loss: 0.43 took: 1.19s\n",
            "Epoch 24, 20% \t train_loss: 0.42 took: 0.90s\n",
            "Epoch 24, 30% \t train_loss: 0.47 took: 0.95s\n",
            "Epoch 24, 40% \t train_loss: 0.46 took: 0.88s\n",
            "Epoch 24, 50% \t train_loss: 0.44 took: 0.94s\n",
            "Epoch 24, 60% \t train_loss: 0.47 took: 0.88s\n",
            "Epoch 24, 70% \t train_loss: 0.50 took: 1.02s\n",
            "Epoch 24, 80% \t train_loss: 0.48 took: 0.92s\n",
            "Epoch 24, 90% \t train_loss: 0.52 took: 0.90s\n",
            "Validation loss = 0.71\n",
            "Epoch 25, 10% \t train_loss: 0.40 took: 1.19s\n",
            "Epoch 25, 20% \t train_loss: 0.43 took: 0.94s\n",
            "Epoch 25, 30% \t train_loss: 0.46 took: 0.90s\n",
            "Epoch 25, 40% \t train_loss: 0.45 took: 0.93s\n",
            "Epoch 25, 50% \t train_loss: 0.46 took: 0.90s\n",
            "Epoch 25, 60% \t train_loss: 0.49 took: 0.90s\n",
            "Epoch 25, 70% \t train_loss: 0.48 took: 0.90s\n",
            "Epoch 25, 80% \t train_loss: 0.49 took: 0.99s\n",
            "Epoch 25, 90% \t train_loss: 0.47 took: 1.00s\n",
            "Validation loss = 0.68\n",
            "Epoch 26, 10% \t train_loss: 0.40 took: 1.18s\n",
            "Epoch 26, 20% \t train_loss: 0.42 took: 0.97s\n",
            "Epoch 26, 30% \t train_loss: 0.42 took: 0.96s\n",
            "Epoch 26, 40% \t train_loss: 0.44 took: 0.98s\n",
            "Epoch 26, 50% \t train_loss: 0.47 took: 0.90s\n",
            "Epoch 26, 60% \t train_loss: 0.45 took: 0.89s\n",
            "Epoch 26, 70% \t train_loss: 0.45 took: 0.91s\n",
            "Epoch 26, 80% \t train_loss: 0.49 took: 0.94s\n",
            "Epoch 26, 90% \t train_loss: 0.51 took: 1.03s\n",
            "Validation loss = 0.67\n",
            "Epoch 27, 10% \t train_loss: 0.40 took: 1.33s\n",
            "Epoch 27, 20% \t train_loss: 0.42 took: 1.01s\n",
            "Epoch 27, 30% \t train_loss: 0.44 took: 0.96s\n",
            "Epoch 27, 40% \t train_loss: 0.43 took: 1.01s\n",
            "Epoch 27, 50% \t train_loss: 0.46 took: 0.92s\n",
            "Epoch 27, 60% \t train_loss: 0.46 took: 1.03s\n",
            "Epoch 27, 70% \t train_loss: 0.44 took: 0.91s\n",
            "Epoch 27, 80% \t train_loss: 0.50 took: 0.93s\n",
            "Epoch 27, 90% \t train_loss: 0.46 took: 0.91s\n",
            "Validation loss = 0.72\n",
            "Epoch 28, 10% \t train_loss: 0.40 took: 1.18s\n",
            "Epoch 28, 20% \t train_loss: 0.37 took: 0.92s\n",
            "Epoch 28, 30% \t train_loss: 0.41 took: 0.95s\n",
            "Epoch 28, 40% \t train_loss: 0.42 took: 0.91s\n",
            "Epoch 28, 50% \t train_loss: 0.43 took: 0.96s\n",
            "Epoch 28, 60% \t train_loss: 0.44 took: 0.96s\n",
            "Epoch 28, 70% \t train_loss: 0.46 took: 0.97s\n",
            "Epoch 28, 80% \t train_loss: 0.46 took: 0.96s\n",
            "Epoch 28, 90% \t train_loss: 0.46 took: 0.99s\n",
            "Validation loss = 0.68\n",
            "Epoch 29, 10% \t train_loss: 0.38 took: 1.34s\n",
            "Epoch 29, 20% \t train_loss: 0.41 took: 1.05s\n",
            "Epoch 29, 30% \t train_loss: 0.43 took: 0.92s\n",
            "Epoch 29, 40% \t train_loss: 0.41 took: 0.93s\n",
            "Epoch 29, 50% \t train_loss: 0.42 took: 1.05s\n",
            "Epoch 29, 60% \t train_loss: 0.41 took: 0.99s\n",
            "Epoch 29, 70% \t train_loss: 0.46 took: 0.92s\n",
            "Epoch 29, 80% \t train_loss: 0.44 took: 0.98s\n",
            "Epoch 29, 90% \t train_loss: 0.44 took: 1.08s\n",
            "Validation loss = 0.73\n",
            "Epoch 30, 10% \t train_loss: 0.37 took: 1.30s\n",
            "Epoch 30, 20% \t train_loss: 0.35 took: 0.95s\n",
            "Epoch 30, 30% \t train_loss: 0.38 took: 0.95s\n",
            "Epoch 30, 40% \t train_loss: 0.46 took: 0.94s\n",
            "Epoch 30, 50% \t train_loss: 0.40 took: 0.93s\n",
            "Epoch 30, 60% \t train_loss: 0.44 took: 1.02s\n",
            "Epoch 30, 70% \t train_loss: 0.43 took: 0.96s\n",
            "Epoch 30, 80% \t train_loss: 0.45 took: 0.99s\n",
            "Epoch 30, 90% \t train_loss: 0.46 took: 0.92s\n",
            "Validation loss = 0.70\n",
            "Training Finished, took 360.28s\n",
            "Accuracy of the network on the 40000 train images: 88.51 %\n",
            "Accuracy of the network on the 10000 validation images: 77.57 %\n",
            "Accuracy of the network on the 10000 test images: 76.73 %\n"
          ],
          "name": "stdout"
        },
        {
          "output_type": "execute_result",
          "data": {
            "text/plain": [
              "76.73"
            ]
          },
          "metadata": {
            "tags": []
          },
          "execution_count": 99
        }
      ]
    },
    {
      "cell_type": "code",
      "metadata": {
        "id": "Iu_sl2b7_8wO",
        "outputId": "cc57093e-5103-431f-abe3-173f5f1fd7eb",
        "colab": {
          "base_uri": "https://localhost:8080/",
          "height": 404
        }
      },
      "source": [
        "plot_losses(train_history, val_history)"
      ],
      "execution_count": null,
      "outputs": [
        {
          "output_type": "display_data",
          "data": {
            "image/png": "[encoded data removed]",
            "text/plain": [
              "<Figure size 576x432 with 1 Axes>"
            ]
          },
          "metadata": {
            "tags": [],
            "needs_background": "light"
          }
        }
      ]
    },
    {
      "cell_type": "code",
      "metadata": {
        "id": "OKvmb4p-ca0I",
        "outputId": "b6acc8f1-a2d9-4885-9699-df3491cfdb53",
        "colab": {
          "base_uri": "https://localhost:8080/",
          "height": 221
        }
      },
      "source": [
        "print(\"Computing accuracy...\")\n",
        "confusion_matrix = accuracy_per_class(best_net)"
      ],
      "execution_count": null,
      "outputs": [
        {
          "output_type": "stream",
          "text": [
            "Computing accuracy...\n",
            "Class      Accuracy (%)\n",
            "plane        86.80   \n",
            "car          83.60   \n",
            "bird         67.10   \n",
            "cat          58.20   \n",
            "deer         72.50   \n",
            "dog          71.80   \n",
            "frog         80.40   \n",
            "horse        81.00   \n",
            "ship         80.90   \n",
            "truck        85.00   \n"
          ],
          "name": "stdout"
        }
      ]
    },
    {
      "cell_type": "code",
      "metadata": {
        "id": "ih5Pj0WBca0L",
        "outputId": "8e5c9af3-876f-4ccd-b621-bb1ba6d47323",
        "colab": {
          "base_uri": "https://localhost:8080/",
          "height": 585
        }
      },
      "source": [
        "plot_confusion_matrix(confusion_matrix, classes,\n",
        "                      title='Confusion matrix, without normalization')"
      ],
      "execution_count": null,
      "outputs": [
        {
          "output_type": "display_data",
          "data": {
            "image/png": "[encoded data removed]",
            "text/plain": [
              "<Figure size 576x576 with 2 Axes>"
            ]
          },
          "metadata": {
            "tags": [],
            "needs_background": "light"
          }
        }
      ]
    }
  ]
}